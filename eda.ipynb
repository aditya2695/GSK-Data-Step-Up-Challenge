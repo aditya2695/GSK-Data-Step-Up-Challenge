{
 "cells": [
  {
   "attachments": {},
   "cell_type": "markdown",
   "metadata": {},
   "source": [
    "THE SCENARIO\n",
    "\n",
    "\n",
    "Researchers at GSK have been working on an innovative family of drugs to help people with solid tumours that continue to grow despite other treatments. A promising candidate, Miraculon-B (a fake name, obviously!), has been making its way through our development pipeline.\n",
    "\n",
    "A late phase clinical trial for Miraculon-B has recently finished. This trial was focused on understanding if Miraculon-B was more effective than the standard of care in shrinking solid tumours in patients that don’t respond to other treatments. To determine this, the clinical trial data needed to be analysed to understand whether patients saw enough of a benefit from the treatment. Work is underway to present a package to the regulatory agencies that describes who is most likely to benefit from this new medicine and to seek agreement on our proposed strategy for aiding prescribers considering the value of Miraculon-B for their patients."
   ]
  },
  {
   "cell_type": "code",
   "execution_count": 1,
   "metadata": {},
   "outputs": [],
   "source": [
    "import pandas as pd\n",
    "import numpy as np\n",
    "import matplotlib.pyplot as plt\n",
    "import seaborn as sns\n"
   ]
  },
  {
   "cell_type": "code",
   "execution_count": 2,
   "metadata": {},
   "outputs": [
    {
     "data": {
      "text/html": [
       "<div>\n",
       "<style scoped>\n",
       "    .dataframe tbody tr th:only-of-type {\n",
       "        vertical-align: middle;\n",
       "    }\n",
       "\n",
       "    .dataframe tbody tr th {\n",
       "        vertical-align: top;\n",
       "    }\n",
       "\n",
       "    .dataframe thead th {\n",
       "        text-align: right;\n",
       "    }\n",
       "</style>\n",
       "<table border=\"1\" class=\"dataframe\">\n",
       "  <thead>\n",
       "    <tr style=\"text-align: right;\">\n",
       "      <th></th>\n",
       "      <th>subject_id</th>\n",
       "      <th>age</th>\n",
       "      <th>sex</th>\n",
       "      <th>weight</th>\n",
       "      <th>height</th>\n",
       "      <th>trt_grp</th>\n",
       "      <th>RESPONSE</th>\n",
       "    </tr>\n",
       "  </thead>\n",
       "  <tbody>\n",
       "    <tr>\n",
       "      <th>0</th>\n",
       "      <td>SUBJ_001</td>\n",
       "      <td>46.0</td>\n",
       "      <td>Female</td>\n",
       "      <td>84.66</td>\n",
       "      <td>1.59</td>\n",
       "      <td>DRUG</td>\n",
       "      <td>N</td>\n",
       "    </tr>\n",
       "    <tr>\n",
       "      <th>1</th>\n",
       "      <td>SUBJ_001</td>\n",
       "      <td>46.0</td>\n",
       "      <td>Female</td>\n",
       "      <td>84.66</td>\n",
       "      <td>1.59</td>\n",
       "      <td>DRUG</td>\n",
       "      <td>N</td>\n",
       "    </tr>\n",
       "    <tr>\n",
       "      <th>2</th>\n",
       "      <td>SUBJ_002</td>\n",
       "      <td>47.0</td>\n",
       "      <td>Female</td>\n",
       "      <td>71.21</td>\n",
       "      <td>1.64</td>\n",
       "      <td>DRUG</td>\n",
       "      <td>Y</td>\n",
       "    </tr>\n",
       "    <tr>\n",
       "      <th>3</th>\n",
       "      <td>SUBJ_003</td>\n",
       "      <td>48.0</td>\n",
       "      <td>Female</td>\n",
       "      <td>69.85</td>\n",
       "      <td>1.73</td>\n",
       "      <td>CONTROL</td>\n",
       "      <td>N</td>\n",
       "    </tr>\n",
       "    <tr>\n",
       "      <th>4</th>\n",
       "      <td>SUBJ_004</td>\n",
       "      <td>59.0</td>\n",
       "      <td>Female</td>\n",
       "      <td>62.94</td>\n",
       "      <td>1.50</td>\n",
       "      <td>DRUG</td>\n",
       "      <td>Y</td>\n",
       "    </tr>\n",
       "  </tbody>\n",
       "</table>\n",
       "</div>"
      ],
      "text/plain": [
       "  subject_id   age     sex  weight  height  trt_grp RESPONSE\n",
       "0   SUBJ_001  46.0  Female   84.66    1.59     DRUG        N\n",
       "1   SUBJ_001  46.0  Female   84.66    1.59     DRUG        N\n",
       "2   SUBJ_002  47.0  Female   71.21    1.64     DRUG        Y\n",
       "3   SUBJ_003  48.0  Female   69.85    1.73  CONTROL        N\n",
       "4   SUBJ_004  59.0  Female   62.94    1.50     DRUG        Y"
      ]
     },
     "execution_count": 2,
     "metadata": {},
     "output_type": "execute_result"
    }
   ],
   "source": [
    "study_df = pd.read_excel('data/clinical-study.xlsx',sheet_name='in')\n",
    "study_df.head()"
   ]
  },
  {
   "cell_type": "code",
   "execution_count": 3,
   "metadata": {},
   "outputs": [
    {
     "data": {
      "text/html": [
       "<div>\n",
       "<style scoped>\n",
       "    .dataframe tbody tr th:only-of-type {\n",
       "        vertical-align: middle;\n",
       "    }\n",
       "\n",
       "    .dataframe tbody tr th {\n",
       "        vertical-align: top;\n",
       "    }\n",
       "\n",
       "    .dataframe thead th {\n",
       "        text-align: right;\n",
       "    }\n",
       "</style>\n",
       "<table border=\"1\" class=\"dataframe\">\n",
       "  <thead>\n",
       "    <tr style=\"text-align: right;\">\n",
       "      <th></th>\n",
       "      <th>participant_id</th>\n",
       "      <th>protein_concentration</th>\n",
       "    </tr>\n",
       "  </thead>\n",
       "  <tbody>\n",
       "    <tr>\n",
       "      <th>0</th>\n",
       "      <td>SUBJ_001</td>\n",
       "      <td>148.0</td>\n",
       "    </tr>\n",
       "    <tr>\n",
       "      <th>1</th>\n",
       "      <td>SUBJ_002</td>\n",
       "      <td>85.0</td>\n",
       "    </tr>\n",
       "    <tr>\n",
       "      <th>2</th>\n",
       "      <td>SUBJ_003</td>\n",
       "      <td>183.0</td>\n",
       "    </tr>\n",
       "    <tr>\n",
       "      <th>3</th>\n",
       "      <td>SUBJ_004</td>\n",
       "      <td>89.0</td>\n",
       "    </tr>\n",
       "    <tr>\n",
       "      <th>4</th>\n",
       "      <td>SUBJ_005</td>\n",
       "      <td>137.0</td>\n",
       "    </tr>\n",
       "  </tbody>\n",
       "</table>\n",
       "</div>"
      ],
      "text/plain": [
       "  participant_id  protein_concentration\n",
       "0       SUBJ_001                  148.0\n",
       "1       SUBJ_002                   85.0\n",
       "2       SUBJ_003                  183.0\n",
       "3       SUBJ_004                   89.0\n",
       "4       SUBJ_005                  137.0"
      ]
     },
     "execution_count": 3,
     "metadata": {},
     "output_type": "execute_result"
    }
   ],
   "source": [
    "protein_df = pd.read_excel('data/protein-levels.xlsx',sheet_name='in')\n",
    "protein_df.head()"
   ]
  },
  {
   "attachments": {
    "image.png": {
     "image/png": "[encoded data removed]"
    }
   },
   "cell_type": "markdown",
   "metadata": {},
   "source": [
    "![image.png](attachment:image.png)"
   ]
  },
  {
   "attachments": {},
   "cell_type": "markdown",
   "metadata": {},
   "source": [
    "# Data Cleaning"
   ]
  },
  {
   "attachments": {},
   "cell_type": "markdown",
   "metadata": {},
   "source": [
    "Here participant_id & subject_id represent the entity so change it to a common name"
   ]
  },
  {
   "cell_type": "code",
   "execution_count": 4,
   "metadata": {},
   "outputs": [
    {
     "data": {
      "text/html": [
       "<div>\n",
       "<style scoped>\n",
       "    .dataframe tbody tr th:only-of-type {\n",
       "        vertical-align: middle;\n",
       "    }\n",
       "\n",
       "    .dataframe tbody tr th {\n",
       "        vertical-align: top;\n",
       "    }\n",
       "\n",
       "    .dataframe thead th {\n",
       "        text-align: right;\n",
       "    }\n",
       "</style>\n",
       "<table border=\"1\" class=\"dataframe\">\n",
       "  <thead>\n",
       "    <tr style=\"text-align: right;\">\n",
       "      <th></th>\n",
       "      <th>participant_id</th>\n",
       "      <th>age</th>\n",
       "      <th>sex</th>\n",
       "      <th>weight</th>\n",
       "      <th>height</th>\n",
       "      <th>trt_grp</th>\n",
       "      <th>RESPONSE</th>\n",
       "    </tr>\n",
       "  </thead>\n",
       "  <tbody>\n",
       "    <tr>\n",
       "      <th>0</th>\n",
       "      <td>SUBJ_001</td>\n",
       "      <td>46.0</td>\n",
       "      <td>Female</td>\n",
       "      <td>84.66</td>\n",
       "      <td>1.59</td>\n",
       "      <td>DRUG</td>\n",
       "      <td>N</td>\n",
       "    </tr>\n",
       "    <tr>\n",
       "      <th>1</th>\n",
       "      <td>SUBJ_001</td>\n",
       "      <td>46.0</td>\n",
       "      <td>Female</td>\n",
       "      <td>84.66</td>\n",
       "      <td>1.59</td>\n",
       "      <td>DRUG</td>\n",
       "      <td>N</td>\n",
       "    </tr>\n",
       "    <tr>\n",
       "      <th>2</th>\n",
       "      <td>SUBJ_002</td>\n",
       "      <td>47.0</td>\n",
       "      <td>Female</td>\n",
       "      <td>71.21</td>\n",
       "      <td>1.64</td>\n",
       "      <td>DRUG</td>\n",
       "      <td>Y</td>\n",
       "    </tr>\n",
       "    <tr>\n",
       "      <th>3</th>\n",
       "      <td>SUBJ_003</td>\n",
       "      <td>48.0</td>\n",
       "      <td>Female</td>\n",
       "      <td>69.85</td>\n",
       "      <td>1.73</td>\n",
       "      <td>CONTROL</td>\n",
       "      <td>N</td>\n",
       "    </tr>\n",
       "    <tr>\n",
       "      <th>4</th>\n",
       "      <td>SUBJ_004</td>\n",
       "      <td>59.0</td>\n",
       "      <td>Female</td>\n",
       "      <td>62.94</td>\n",
       "      <td>1.50</td>\n",
       "      <td>DRUG</td>\n",
       "      <td>Y</td>\n",
       "    </tr>\n",
       "  </tbody>\n",
       "</table>\n",
       "</div>"
      ],
      "text/plain": [
       "  participant_id   age     sex  weight  height  trt_grp RESPONSE\n",
       "0       SUBJ_001  46.0  Female   84.66    1.59     DRUG        N\n",
       "1       SUBJ_001  46.0  Female   84.66    1.59     DRUG        N\n",
       "2       SUBJ_002  47.0  Female   71.21    1.64     DRUG        Y\n",
       "3       SUBJ_003  48.0  Female   69.85    1.73  CONTROL        N\n",
       "4       SUBJ_004  59.0  Female   62.94    1.50     DRUG        Y"
      ]
     },
     "execution_count": 4,
     "metadata": {},
     "output_type": "execute_result"
    }
   ],
   "source": [
    "study_df.rename(columns={'subject_id':'participant_id'},inplace=True)\n",
    "study_df.head()"
   ]
  },
  {
   "attachments": {},
   "cell_type": "markdown",
   "metadata": {},
   "source": [
    "### Merge the two datasets using the subject_id column."
   ]
  },
  {
   "cell_type": "code",
   "execution_count": 5,
   "metadata": {},
   "outputs": [
    {
     "data": {
      "text/html": [
       "<div>\n",
       "<style scoped>\n",
       "    .dataframe tbody tr th:only-of-type {\n",
       "        vertical-align: middle;\n",
       "    }\n",
       "\n",
       "    .dataframe tbody tr th {\n",
       "        vertical-align: top;\n",
       "    }\n",
       "\n",
       "    .dataframe thead th {\n",
       "        text-align: right;\n",
       "    }\n",
       "</style>\n",
       "<table border=\"1\" class=\"dataframe\">\n",
       "  <thead>\n",
       "    <tr style=\"text-align: right;\">\n",
       "      <th></th>\n",
       "      <th>participant_id</th>\n",
       "      <th>age</th>\n",
       "      <th>sex</th>\n",
       "      <th>weight</th>\n",
       "      <th>height</th>\n",
       "      <th>trt_grp</th>\n",
       "      <th>RESPONSE</th>\n",
       "      <th>protein_concentration</th>\n",
       "    </tr>\n",
       "  </thead>\n",
       "  <tbody>\n",
       "    <tr>\n",
       "      <th>0</th>\n",
       "      <td>SUBJ_001</td>\n",
       "      <td>46.0</td>\n",
       "      <td>Female</td>\n",
       "      <td>84.66</td>\n",
       "      <td>1.59</td>\n",
       "      <td>DRUG</td>\n",
       "      <td>N</td>\n",
       "      <td>148.0</td>\n",
       "    </tr>\n",
       "    <tr>\n",
       "      <th>1</th>\n",
       "      <td>SUBJ_001</td>\n",
       "      <td>46.0</td>\n",
       "      <td>Female</td>\n",
       "      <td>84.66</td>\n",
       "      <td>1.59</td>\n",
       "      <td>DRUG</td>\n",
       "      <td>N</td>\n",
       "      <td>148.0</td>\n",
       "    </tr>\n",
       "    <tr>\n",
       "      <th>2</th>\n",
       "      <td>SUBJ_002</td>\n",
       "      <td>47.0</td>\n",
       "      <td>Female</td>\n",
       "      <td>71.21</td>\n",
       "      <td>1.64</td>\n",
       "      <td>DRUG</td>\n",
       "      <td>Y</td>\n",
       "      <td>85.0</td>\n",
       "    </tr>\n",
       "    <tr>\n",
       "      <th>3</th>\n",
       "      <td>SUBJ_003</td>\n",
       "      <td>48.0</td>\n",
       "      <td>Female</td>\n",
       "      <td>69.85</td>\n",
       "      <td>1.73</td>\n",
       "      <td>CONTROL</td>\n",
       "      <td>N</td>\n",
       "      <td>183.0</td>\n",
       "    </tr>\n",
       "    <tr>\n",
       "      <th>4</th>\n",
       "      <td>SUBJ_004</td>\n",
       "      <td>59.0</td>\n",
       "      <td>Female</td>\n",
       "      <td>62.94</td>\n",
       "      <td>1.50</td>\n",
       "      <td>DRUG</td>\n",
       "      <td>Y</td>\n",
       "      <td>89.0</td>\n",
       "    </tr>\n",
       "  </tbody>\n",
       "</table>\n",
       "</div>"
      ],
      "text/plain": [
       "  participant_id   age     sex  weight  height  trt_grp RESPONSE  \\\n",
       "0       SUBJ_001  46.0  Female   84.66    1.59     DRUG        N   \n",
       "1       SUBJ_001  46.0  Female   84.66    1.59     DRUG        N   \n",
       "2       SUBJ_002  47.0  Female   71.21    1.64     DRUG        Y   \n",
       "3       SUBJ_003  48.0  Female   69.85    1.73  CONTROL        N   \n",
       "4       SUBJ_004  59.0  Female   62.94    1.50     DRUG        Y   \n",
       "\n",
       "   protein_concentration  \n",
       "0                  148.0  \n",
       "1                  148.0  \n",
       "2                   85.0  \n",
       "3                  183.0  \n",
       "4                   89.0  "
      ]
     },
     "execution_count": 5,
     "metadata": {},
     "output_type": "execute_result"
    }
   ],
   "source": [
    "\n",
    "# Merge the two datasets on the subject_id column\n",
    "merged_df = pd.merge(study_df, protein_df, on='participant_id')\n",
    "merged_df.head()"
   ]
  },
  {
   "attachments": {},
   "cell_type": "markdown",
   "metadata": {},
   "source": [
    "## Check for missing values and outliers."
   ]
  },
  {
   "cell_type": "code",
   "execution_count": 6,
   "metadata": {},
   "outputs": [
    {
     "data": {
      "text/html": [
       "<div>\n",
       "<style scoped>\n",
       "    .dataframe tbody tr th:only-of-type {\n",
       "        vertical-align: middle;\n",
       "    }\n",
       "\n",
       "    .dataframe tbody tr th {\n",
       "        vertical-align: top;\n",
       "    }\n",
       "\n",
       "    .dataframe thead th {\n",
       "        text-align: right;\n",
       "    }\n",
       "</style>\n",
       "<table border=\"1\" class=\"dataframe\">\n",
       "  <thead>\n",
       "    <tr style=\"text-align: right;\">\n",
       "      <th></th>\n",
       "      <th>col</th>\n",
       "      <th>null_percentage</th>\n",
       "    </tr>\n",
       "  </thead>\n",
       "  <tbody>\n",
       "    <tr>\n",
       "      <th>3</th>\n",
       "      <td>weight</td>\n",
       "      <td>1.43</td>\n",
       "    </tr>\n",
       "    <tr>\n",
       "      <th>7</th>\n",
       "      <td>protein_concentration</td>\n",
       "      <td>0.65</td>\n",
       "    </tr>\n",
       "    <tr>\n",
       "      <th>0</th>\n",
       "      <td>participant_id</td>\n",
       "      <td>0.00</td>\n",
       "    </tr>\n",
       "    <tr>\n",
       "      <th>1</th>\n",
       "      <td>age</td>\n",
       "      <td>0.00</td>\n",
       "    </tr>\n",
       "    <tr>\n",
       "      <th>2</th>\n",
       "      <td>sex</td>\n",
       "      <td>0.00</td>\n",
       "    </tr>\n",
       "    <tr>\n",
       "      <th>4</th>\n",
       "      <td>height</td>\n",
       "      <td>0.00</td>\n",
       "    </tr>\n",
       "    <tr>\n",
       "      <th>5</th>\n",
       "      <td>trt_grp</td>\n",
       "      <td>0.00</td>\n",
       "    </tr>\n",
       "    <tr>\n",
       "      <th>6</th>\n",
       "      <td>RESPONSE</td>\n",
       "      <td>0.00</td>\n",
       "    </tr>\n",
       "  </tbody>\n",
       "</table>\n",
       "</div>"
      ],
      "text/plain": [
       "                     col  null_percentage\n",
       "3                 weight             1.43\n",
       "7  protein_concentration             0.65\n",
       "0         participant_id             0.00\n",
       "1                    age             0.00\n",
       "2                    sex             0.00\n",
       "4                 height             0.00\n",
       "5                trt_grp             0.00\n",
       "6               RESPONSE             0.00"
      ]
     },
     "execution_count": 6,
     "metadata": {},
     "output_type": "execute_result"
    }
   ],
   "source": [
    "# create a dataframe of percentage of null values\n",
    "null_dict = (dict(merged_df.isna().mean().round(4)*100))\n",
    "null_df = pd.DataFrame.from_dict(null_dict, orient=\"index\").reset_index()\n",
    "null_df.columns = ['col', 'null_percentage']\n",
    "null_df = null_df.sort_values('null_percentage',ascending=False)\n",
    "null_df.head(10)"
   ]
  },
  {
   "cell_type": "code",
   "execution_count": 7,
   "metadata": {},
   "outputs": [
    {
     "data": {
      "text/plain": [
       "participant_id            object\n",
       "age                      float64\n",
       "sex                       object\n",
       "weight                   float64\n",
       "height                   float64\n",
       "trt_grp                   object\n",
       "RESPONSE                  object\n",
       "protein_concentration    float64\n",
       "dtype: object"
      ]
     },
     "execution_count": 7,
     "metadata": {},
     "output_type": "execute_result"
    }
   ],
   "source": [
    "merged_df.dtypes"
   ]
  },
  {
   "attachments": {},
   "cell_type": "markdown",
   "metadata": {},
   "source": [
    "Shape before dropping duplicates"
   ]
  },
  {
   "cell_type": "code",
   "execution_count": 8,
   "metadata": {},
   "outputs": [
    {
     "data": {
      "text/plain": [
       "(769, 8)"
      ]
     },
     "execution_count": 8,
     "metadata": {},
     "output_type": "execute_result"
    }
   ],
   "source": [
    "merged_df.shape"
   ]
  },
  {
   "cell_type": "code",
   "execution_count": 9,
   "metadata": {},
   "outputs": [
    {
     "data": {
      "text/plain": [
       "(768, 8)"
      ]
     },
     "execution_count": 9,
     "metadata": {},
     "output_type": "execute_result"
    }
   ],
   "source": [
    "# drop duplicate rows\n",
    "merged_df.drop_duplicates(inplace=True)\n",
    "merged_df.shape"
   ]
  },
  {
   "attachments": {
    "image.png": {
     "image/png": "[encoded data removed]"
    }
   },
   "cell_type": "markdown",
   "metadata": {},
   "source": [
    "![image.png](attachment:image.png)"
   ]
  },
  {
   "cell_type": "code",
   "execution_count": 10,
   "metadata": {},
   "outputs": [
    {
     "data": {
      "text/plain": [
       "(752, 8)"
      ]
     },
     "execution_count": 10,
     "metadata": {},
     "output_type": "execute_result"
    }
   ],
   "source": [
    "merged_df.dropna(inplace=True)\n",
    "merged_df.shape"
   ]
  },
  {
   "attachments": {},
   "cell_type": "markdown",
   "metadata": {},
   "source": [
    "### Create new Variables"
   ]
  },
  {
   "cell_type": "code",
   "execution_count": 11,
   "metadata": {},
   "outputs": [
    {
     "data": {
      "text/plain": [
       "Index(['participant_id', 'age', 'sex', 'weight', 'height', 'trt_grp',\n",
       "       'RESPONSE', 'protein_concentration'],\n",
       "      dtype='object')"
      ]
     },
     "execution_count": 11,
     "metadata": {},
     "output_type": "execute_result"
    }
   ],
   "source": [
    "merged_df.columns"
   ]
  },
  {
   "cell_type": "code",
   "execution_count": 12,
   "metadata": {},
   "outputs": [
    {
     "data": {
      "text/html": [
       "<div>\n",
       "<style scoped>\n",
       "    .dataframe tbody tr th:only-of-type {\n",
       "        vertical-align: middle;\n",
       "    }\n",
       "\n",
       "    .dataframe tbody tr th {\n",
       "        vertical-align: top;\n",
       "    }\n",
       "\n",
       "    .dataframe thead th {\n",
       "        text-align: right;\n",
       "    }\n",
       "</style>\n",
       "<table border=\"1\" class=\"dataframe\">\n",
       "  <thead>\n",
       "    <tr style=\"text-align: right;\">\n",
       "      <th></th>\n",
       "      <th>participant_id</th>\n",
       "      <th>age</th>\n",
       "      <th>sex</th>\n",
       "      <th>weight</th>\n",
       "      <th>height</th>\n",
       "      <th>trt_grp</th>\n",
       "      <th>RESPONSE</th>\n",
       "      <th>protein_concentration</th>\n",
       "      <th>bmi</th>\n",
       "    </tr>\n",
       "  </thead>\n",
       "  <tbody>\n",
       "    <tr>\n",
       "      <th>0</th>\n",
       "      <td>SUBJ_001</td>\n",
       "      <td>46.0</td>\n",
       "      <td>Female</td>\n",
       "      <td>84.66</td>\n",
       "      <td>1.59</td>\n",
       "      <td>DRUG</td>\n",
       "      <td>N</td>\n",
       "      <td>148.0</td>\n",
       "      <td>33.0</td>\n",
       "    </tr>\n",
       "    <tr>\n",
       "      <th>2</th>\n",
       "      <td>SUBJ_002</td>\n",
       "      <td>47.0</td>\n",
       "      <td>Female</td>\n",
       "      <td>71.21</td>\n",
       "      <td>1.64</td>\n",
       "      <td>DRUG</td>\n",
       "      <td>Y</td>\n",
       "      <td>85.0</td>\n",
       "      <td>26.0</td>\n",
       "    </tr>\n",
       "    <tr>\n",
       "      <th>3</th>\n",
       "      <td>SUBJ_003</td>\n",
       "      <td>48.0</td>\n",
       "      <td>Female</td>\n",
       "      <td>69.85</td>\n",
       "      <td>1.73</td>\n",
       "      <td>CONTROL</td>\n",
       "      <td>N</td>\n",
       "      <td>183.0</td>\n",
       "      <td>23.0</td>\n",
       "    </tr>\n",
       "    <tr>\n",
       "      <th>4</th>\n",
       "      <td>SUBJ_004</td>\n",
       "      <td>59.0</td>\n",
       "      <td>Female</td>\n",
       "      <td>62.94</td>\n",
       "      <td>1.50</td>\n",
       "      <td>DRUG</td>\n",
       "      <td>Y</td>\n",
       "      <td>89.0</td>\n",
       "      <td>28.0</td>\n",
       "    </tr>\n",
       "    <tr>\n",
       "      <th>5</th>\n",
       "      <td>SUBJ_005</td>\n",
       "      <td>59.0</td>\n",
       "      <td>Female</td>\n",
       "      <td>113.91</td>\n",
       "      <td>1.63</td>\n",
       "      <td>CONTROL</td>\n",
       "      <td>N</td>\n",
       "      <td>137.0</td>\n",
       "      <td>43.0</td>\n",
       "    </tr>\n",
       "  </tbody>\n",
       "</table>\n",
       "</div>"
      ],
      "text/plain": [
       "  participant_id   age     sex  weight  height  trt_grp RESPONSE  \\\n",
       "0       SUBJ_001  46.0  Female   84.66    1.59     DRUG        N   \n",
       "2       SUBJ_002  47.0  Female   71.21    1.64     DRUG        Y   \n",
       "3       SUBJ_003  48.0  Female   69.85    1.73  CONTROL        N   \n",
       "4       SUBJ_004  59.0  Female   62.94    1.50     DRUG        Y   \n",
       "5       SUBJ_005  59.0  Female  113.91    1.63  CONTROL        N   \n",
       "\n",
       "   protein_concentration   bmi  \n",
       "0                  148.0  33.0  \n",
       "2                   85.0  26.0  \n",
       "3                  183.0  23.0  \n",
       "4                   89.0  28.0  \n",
       "5                  137.0  43.0  "
      ]
     },
     "execution_count": 12,
     "metadata": {},
     "output_type": "execute_result"
    }
   ],
   "source": [
    "merged_df['bmi'] = round(merged_df['weight']/merged_df['height']**2)\n",
    "merged_df.head()"
   ]
  },
  {
   "attachments": {},
   "cell_type": "markdown",
   "metadata": {},
   "source": [
    "## Analysis"
   ]
  },
  {
   "attachments": {},
   "cell_type": "markdown",
   "metadata": {},
   "source": [
    "To compare the mean age in the two treatment groups:"
   ]
  },
  {
   "cell_type": "code",
   "execution_count": 13,
   "metadata": {},
   "outputs": [
    {
     "data": {
      "text/plain": [
       "trt_grp\n",
       "CONTROL    61.809019\n",
       "DRUG       61.672000\n",
       "Name: age, dtype: float64"
      ]
     },
     "execution_count": 13,
     "metadata": {},
     "output_type": "execute_result"
    }
   ],
   "source": [
    "merged_df.groupby('trt_grp')['age'].mean()\n"
   ]
  },
  {
   "attachments": {},
   "cell_type": "markdown",
   "metadata": {},
   "source": [
    "Compare mean age in responders vs non-responders"
   ]
  },
  {
   "cell_type": "code",
   "execution_count": 14,
   "metadata": {},
   "outputs": [
    {
     "data": {
      "text/plain": [
       "RESPONSE\n",
       "N    61.656398\n",
       "Y    61.848485\n",
       "Name: age, dtype: float64"
      ]
     },
     "execution_count": 14,
     "metadata": {},
     "output_type": "execute_result"
    }
   ],
   "source": [
    "merged_df.groupby('RESPONSE')['age'].mean()\n"
   ]
  },
  {
   "attachments": {},
   "cell_type": "markdown",
   "metadata": {},
   "source": [
    "compare responders and non-responders in the two treatment arms"
   ]
  },
  {
   "cell_type": "code",
   "execution_count": 15,
   "metadata": {},
   "outputs": [
    {
     "data": {
      "text/plain": [
       "trt_grp  RESPONSE\n",
       "CONTROL  N           254\n",
       "         Y           123\n",
       "DRUG     N           168\n",
       "         Y           207\n",
       "Name: age, dtype: int64"
      ]
     },
     "execution_count": 15,
     "metadata": {},
     "output_type": "execute_result"
    }
   ],
   "source": [
    "merged_df.groupby(['trt_grp', 'RESPONSE'])['age'].count()\n"
   ]
  },
  {
   "attachments": {},
   "cell_type": "markdown",
   "metadata": {},
   "source": [
    "compare mean weight in responders/non-responders:"
   ]
  },
  {
   "cell_type": "code",
   "execution_count": 16,
   "metadata": {},
   "outputs": [
    {
     "data": {
      "text/plain": [
       "RESPONSE\n",
       "N    89.939573\n",
       "Y    93.188939\n",
       "Name: weight, dtype: float64"
      ]
     },
     "execution_count": 16,
     "metadata": {},
     "output_type": "execute_result"
    }
   ],
   "source": [
    "merged_df.groupby('RESPONSE')['weight'].mean()\n"
   ]
  },
  {
   "attachments": {},
   "cell_type": "markdown",
   "metadata": {},
   "source": [
    "compare protein concentration in responders vs non-responders"
   ]
  },
  {
   "cell_type": "code",
   "execution_count": 17,
   "metadata": {},
   "outputs": [
    {
     "data": {
      "text/plain": [
       "RESPONSE\n",
       "N    135.706161\n",
       "Y    104.339394\n",
       "Name: protein_concentration, dtype: float64"
      ]
     },
     "execution_count": 17,
     "metadata": {},
     "output_type": "execute_result"
    }
   ],
   "source": [
    "merged_df.groupby('RESPONSE')['protein_concentration'].mean()\n"
   ]
  },
  {
   "cell_type": "code",
   "execution_count": null,
   "metadata": {},
   "outputs": [],
   "source": []
  },
  {
   "attachments": {},
   "cell_type": "markdown",
   "metadata": {},
   "source": [
    "## Visualisation"
   ]
  },
  {
   "attachments": {},
   "cell_type": "markdown",
   "metadata": {},
   "source": [
    "Boxplot of age by response, separated by treatment group"
   ]
  },
  {
   "cell_type": "code",
   "execution_count": 18,
   "metadata": {},
   "outputs": [
    {
     "data": {
      "text/plain": [
       "<Axes: xlabel='RESPONSE', ylabel='age'>"
      ]
     },
     "execution_count": 18,
     "metadata": {},
     "output_type": "execute_result"
    },
    {
     "data": {
      "image/png": "[encoded data removed]",
      "text/plain": [
       "<Figure size 640x480 with 1 Axes>"
      ]
     },
     "metadata": {},
     "output_type": "display_data"
    }
   ],
   "source": [
    "sns.boxplot(x='RESPONSE', y='age', hue='trt_grp', data=merged_df)"
   ]
  },
  {
   "attachments": {},
   "cell_type": "markdown",
   "metadata": {},
   "source": [
    "Boxplot of weight/BMI by response, separated by treatment group"
   ]
  },
  {
   "cell_type": "code",
   "execution_count": 19,
   "metadata": {},
   "outputs": [
    {
     "data": {
      "text/plain": [
       "<Axes: xlabel='RESPONSE', ylabel='weight'>"
      ]
     },
     "execution_count": 19,
     "metadata": {},
     "output_type": "execute_result"
    },
    {
     "data": {
      "image/png": "[encoded data removed]",
      "text/plain": [
       "<Figure size 640x480 with 1 Axes>"
      ]
     },
     "metadata": {},
     "output_type": "display_data"
    }
   ],
   "source": [
    "sns.boxplot(x='RESPONSE', y='weight', hue='trt_grp', data=merged_df)\n"
   ]
  },
  {
   "attachments": {},
   "cell_type": "markdown",
   "metadata": {},
   "source": [
    "Boxplot of protein_concentration by response, separated by treatment group"
   ]
  },
  {
   "cell_type": "code",
   "execution_count": 20,
   "metadata": {},
   "outputs": [
    {
     "data": {
      "text/plain": [
       "<Axes: xlabel='RESPONSE', ylabel='protein_concentration'>"
      ]
     },
     "execution_count": 20,
     "metadata": {},
     "output_type": "execute_result"
    },
    {
     "data": {
      "image/png": "[encoded data removed]",
      "text/plain": [
       "<Figure size 640x480 with 1 Axes>"
      ]
     },
     "metadata": {},
     "output_type": "display_data"
    }
   ],
   "source": [
    "sns.boxplot(x='RESPONSE', y='protein_concentration', hue='trt_grp', data=merged_df)\n"
   ]
  },
  {
   "attachments": {},
   "cell_type": "markdown",
   "metadata": {},
   "source": [
    "Differences in protein concentration between responders and non-responders in each treatment group can be clearly observed"
   ]
  },
  {
   "cell_type": "code",
   "execution_count": null,
   "metadata": {},
   "outputs": [],
   "source": []
  }
 ],
 "metadata": {
  "kernelspec": {
   "display_name": "base",
   "language": "python",
   "name": "python3"
  },
  "language_info": {
   "codemirror_mode": {
    "name": "ipython",
    "version": 3
   },
   "file_extension": ".py",
   "mimetype": "text/x-python",
   "name": "python",
   "nbconvert_exporter": "python",
   "pygments_lexer": "ipython3",
   "version": "3.9.16"
  },
  "orig_nbformat": 4
 },
 "nbformat": 4,
 "nbformat_minor": 2
}
